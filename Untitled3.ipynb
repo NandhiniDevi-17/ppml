{
  "metadata": {
    "kernelspec": {
      "name": "python",
      "display_name": "Python (Pyodide)",
      "language": "python"
    },
    "language_info": {
      "codemirror_mode": {
        "name": "python",
        "version": 3
      },
      "file_extension": ".py",
      "mimetype": "text/x-python",
      "name": "python",
      "nbconvert_exporter": "python",
      "pygments_lexer": "ipython3",
      "version": "3.8"
    }
  },
  "nbformat_minor": 4,
  "nbformat": 4,
  "cells": [
    {
      "cell_type": "code",
      "source": "import numpy as np\n\n# Declare the Numpy array\narr = np.array([1, 2, 3, 4, 5])\nprint(\"Declared array:\", arr)",
      "metadata": {
        "trusted": true
      },
      "outputs": [
        {
          "name": "stdout",
          "text": "Declared array: [1 2 3 4 5]\n",
          "output_type": "stream"
        }
      ],
      "execution_count": 30
    },
    {
      "cell_type": "code",
      "source": "# Create an array with full of zero values\nzeros_arr = np.zeros((3, 4))\nprint(\"Zeros array:\\n\", zeros_arr)",
      "metadata": {
        "trusted": true
      },
      "outputs": [
        {
          "name": "stdout",
          "text": "Zeros array:\n [[0. 0. 0. 0.]\n [0. 0. 0. 0.]\n [0. 0. 0. 0.]]\n",
          "output_type": "stream"
        }
      ],
      "execution_count": 31
    },
    {
      "cell_type": "code",
      "source": "# Create an array with a Scalar values filled\nscalar_arr = np.full((2, 2), 7)\nprint(\"Scalar array:\\n\", scalar_arr)",
      "metadata": {
        "trusted": true
      },
      "outputs": [
        {
          "name": "stdout",
          "text": "Scalar array:\n [[7 7]\n [7 7]]\n",
          "output_type": "stream"
        }
      ],
      "execution_count": 32
    },
    {
      "cell_type": "code",
      "source": "# Create an array with random values\nrandom_arr = np.random.rand(2, 3)\nprint(\"Random array:\\n\", random_arr)",
      "metadata": {
        "trusted": true
      },
      "outputs": [
        {
          "name": "stdout",
          "text": "Random array:\n [[0.55707749 0.84764492 0.2512239 ]\n [0.22453657 0.80092742 0.03117573]]\n",
          "output_type": "stream"
        }
      ],
      "execution_count": 33
    },
    {
      "cell_type": "code",
      "source": "# Reshape and Flattening the array\nreshaped_arr = arr.reshape((1, 5))\nprint(\"Reshaped array:\\n\", reshaped_arr)\nflattened_arr = arr.flatten()\nprint(\"Flattened array:\\n\", flattened_arr)",
      "metadata": {
        "trusted": true
      },
      "outputs": [
        {
          "name": "stdout",
          "text": "Reshaped array:\n [[1 2 3 4 5]]\nFlattened array:\n [1 2 3 4 5]\n",
          "output_type": "stream"
        }
      ],
      "execution_count": 34
    },
    {
      "cell_type": "code",
      "source": "# Convert an array from one type to another\nint_arr = np.array([1, 2, 3])\nfloat_arr = int_arr.astype(float)\nprint(\"Converted array:\", float_arr)",
      "metadata": {
        "trusted": true
      },
      "outputs": [
        {
          "name": "stdout",
          "text": "Converted array: [1. 2. 3.]\n",
          "output_type": "stream"
        }
      ],
      "execution_count": 35
    },
    {
      "cell_type": "code",
      "source": "# Do slicing operations in an array\nsliced_arr = arr[1:4]\nprint(\"Sliced array:\", sliced_arr)",
      "metadata": {
        "trusted": true
      },
      "outputs": [
        {
          "name": "stdout",
          "text": "Sliced array: [2 3 4]\n",
          "output_type": "stream"
        }
      ],
      "execution_count": 36
    },
    {
      "cell_type": "code",
      "source": "# Join Functions\narr1 = np.array([1, 2, 3])\narr2 = np.array([4, 5, 6])",
      "metadata": {
        "trusted": true
      },
      "outputs": [],
      "execution_count": null
    },
    {
      "cell_type": "code",
      "source": "# Horizontal Join (Concatenation)\nhorizontal_join = np.concatenate((arr1, arr2))\nprint(\"Horizontal Join:\", horizontal_join)",
      "metadata": {
        "trusted": true
      },
      "outputs": [
        {
          "name": "stdout",
          "text": "Horizontal Join: [1 2 3 4 5 6]\n",
          "output_type": "stream"
        }
      ],
      "execution_count": 37
    },
    {
      "cell_type": "code",
      "source": "# Vertical Join (Stacking)\nvertical_join = np.vstack((arr1, arr2))\nprint(\"Vertical Join:\", vertical_join)",
      "metadata": {
        "trusted": true
      },
      "outputs": [
        {
          "name": "stdout",
          "text": "Vertical Join: [[1 2 3]\n [4 5 6]]\n",
          "output_type": "stream"
        }
      ],
      "execution_count": 38
    },
    {
      "cell_type": "code",
      "source": "# Depth Join (Stacking along a new axis)\ndepth_join = np.dstack((arr1, arr2))\nprint(\"Depth Join:\", depth_join)",
      "metadata": {
        "trusted": true
      },
      "outputs": [
        {
          "name": "stdout",
          "text": "Depth Join: [[[1 4]\n  [2 5]\n  [3 6]]]\n",
          "output_type": "stream"
        }
      ],
      "execution_count": 39
    },
    {
      "cell_type": "code",
      "source": "# Index Retrieval and Basic Operations\narr = np.array([10, 20, 30, 40, 50])",
      "metadata": {
        "trusted": true
      },
      "outputs": [],
      "execution_count": null
    },
    {
      "cell_type": "code",
      "source": "# Accessing elements by index\nprint(\"Element at index 2:\", arr[2])",
      "metadata": {
        "trusted": true
      },
      "outputs": [
        {
          "name": "stdout",
          "text": "Element at index 2: 3\n",
          "output_type": "stream"
        }
      ],
      "execution_count": 40
    },
    {
      "cell_type": "code",
      "source": "# Slicing\nprint(\"Elements from index 1 to 3:\", arr[1:4])",
      "metadata": {
        "trusted": true
      },
      "outputs": [
        {
          "name": "stdout",
          "text": "Elements from index 1 to 3: [2 3 4]\n",
          "output_type": "stream"
        }
      ],
      "execution_count": 41
    },
    {
      "cell_type": "code",
      "source": "# Modifying elements by index\narr[0] = 100\nprint(\"Modified array:\", arr)",
      "metadata": {
        "trusted": true
      },
      "outputs": [
        {
          "name": "stdout",
          "text": "Modified array: [100   2   3   4   5]\n",
          "output_type": "stream"
        }
      ],
      "execution_count": 42
    },
    {
      "cell_type": "code",
      "source": "# Sorting Operation\narr = np.array([5, 2, 8, 1, 9])\nsorted_arr = np.sort(arr)\nprint(\"Sorted array:\", sorted_arr)",
      "metadata": {
        "trusted": true
      },
      "outputs": [
        {
          "name": "stdout",
          "text": "Sorted array: [1 2 5 8 9]\n",
          "output_type": "stream"
        }
      ],
      "execution_count": 43
    },
    {
      "cell_type": "code",
      "source": "# Filtering Operation\narr = np.array([1, 2, 3, 4, 5])\nfiltered_arr = arr[arr > 3]\nprint(\"Filtered array (greater than 3):\", filtered_arr)",
      "metadata": {
        "trusted": true
      },
      "outputs": [
        {
          "name": "stdout",
          "text": "Filtered array (greater than 3): [4 5]\n",
          "output_type": "stream"
        }
      ],
      "execution_count": 44
    },
    {
      "cell_type": "code",
      "source": "# Vector Operations\narr1 = np.array([1, 2, 3])\narr2 = np.array([4, 5, 6])\n\n# Addition\naddition = arr1 + arr2\nprint(\"Addition:\", addition)\n\n\n# Subtraction\nsubtraction = arr1 - arr2\nprint(\"Subtraction:\", subtraction)\n\n\n# Multiplication\nmultiplication = arr1 * arr2\nprint(\"Multiplication:\", multiplication)\n\n# Division\ndivision = arr1 / arr2\nprint(\"Division:\", division)",
      "metadata": {
        "trusted": true
      },
      "outputs": [
        {
          "name": "stdout",
          "text": "Addition: [5 7 9]\nSubtraction: [-3 -3 -3]\nMultiplication: [ 4 10 18]\nDivision: [0.25 0.4  0.5 ]\n",
          "output_type": "stream"
        }
      ],
      "execution_count": 45
    },
    {
      "cell_type": "code",
      "source": "# Scalar Operation\narr = np.array([1, 2, 3])\nscalar = 2\n\n# Scalar multiplication\nscalar_multiplication = arr * scalar\nprint(\"Scalar Multiplication:\", scalar_multiplication)",
      "metadata": {
        "trusted": true
      },
      "outputs": [
        {
          "name": "stdout",
          "text": "Scalar Multiplication: [2 4 6]\n",
          "output_type": "stream"
        }
      ],
      "execution_count": 46
    },
    {
      "cell_type": "code",
      "source": "# Vectorize Operation\ndef my_function(x):\n  return x * 2\n\nvectorized_function = np.vectorize(my_function)\narr = np.array([1, 2, 3])\nresult = vectorized_function(arr)\nprint(\"Vectorized Operation:\", result)",
      "metadata": {
        "trusted": true
      },
      "outputs": [
        {
          "name": "stdout",
          "text": "Vectorized Operation: [2 4 6]\n",
          "output_type": "stream"
        }
      ],
      "execution_count": 47
    },
    {
      "cell_type": "code",
      "source": "",
      "metadata": {
        "trusted": true
      },
      "outputs": [],
      "execution_count": null
    }
  ]
}